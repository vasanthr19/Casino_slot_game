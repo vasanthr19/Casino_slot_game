{
 "cells": [
  {
   "cell_type": "markdown",
   "id": "e1568ab0",
   "metadata": {},
   "source": [
    "# This is a simple Python code to replicate the Casino slot game"
   ]
  },
  {
   "cell_type": "code",
   "execution_count": null,
   "id": "dc6a9c2f",
   "metadata": {},
   "outputs": [],
   "source": [
    "# Imports the libraries required for processing\n",
    "import random \n",
    "import math\n"
   ]
  },
  {
   "cell_type": "code",
   "execution_count": 40,
   "id": "1e5fe522",
   "metadata": {},
   "outputs": [],
   "source": [
    "# define the global constants that will be used in most of the functions\n",
    "MAX_LINES=3\n",
    "MAX_BET=100\n",
    "MIN_BET=1\n",
    "ROWS=3\n",
    "COLS=3\n",
    "SYMBOL_COUNT={'A':2,'B':4,'C':6,'D':5}\n",
    "SYMBOL_VALUE={'A':5,'B':4,'C':2,'D':3}"
   ]
  },
  {
   "cell_type": "code",
   "execution_count": 41,
   "id": "87b689ba",
   "metadata": {},
   "outputs": [],
   "source": [
    "# Use this function to get the deposit amount from the players\n",
    "def deposit():\n",
    "    while True:\n",
    "        amount=input(\"Enter the amount you like to deposit : $\")\n",
    "        if amount.isdigit():\n",
    "            amount=int(amount)\n",
    "            if amount > 0:\n",
    "                break\n",
    "            else:\n",
    "                print(\"Amount must be greater than 0.\")\n",
    "        else:\n",
    "            print(\"Please enter a valid amount\")\n",
    "    return amount"
   ]
  },
  {
   "cell_type": "code",
   "execution_count": 64,
   "id": "a1ae4fd4",
   "metadata": {},
   "outputs": [],
   "source": [
    "# Main function executing the game\n",
    "def main():\n",
    "    balance=deposit()\n",
    "    while True:\n",
    "        print(f\"Current balance id ${balance}\")\n",
    "        spin=input(\"press enter to spin(q to Quit).\")\n",
    "        if spin==\"q\":\n",
    "            break\n",
    "        balance+=game(balance)\n",
    "        print(f\"You left with ${balance}\")\n",
    "   \n",
    "    "
   ]
  },
  {
   "cell_type": "code",
   "execution_count": 57,
   "id": "0bf0256b",
   "metadata": {},
   "outputs": [],
   "source": [
    "# this function is called for each instance of the game . It runs until q is pressed by player\n",
    "def game(balance):\n",
    "    lines=get_no_lines()\n",
    "    while True:\n",
    "        bet=get_bet()\n",
    "        total_bet=bet*lines\n",
    "        if total_bet > balance:\n",
    "            print(\"You dont have enough to bet. Your current balance is $\",balance)\n",
    "        else:\n",
    "            break\n",
    "        \n",
    "    print(f\"You are betting ${bet} on {lines}lines.Total bet is equal to ${total_bet}\")\n",
    "    slots=get_slot_spin(ROWS,COLS,SYMBOL_COUNT)\n",
    "    print_slot_machine(slots)\n",
    "    winnings,winning_lines=check_winnings(slots,lines,bet,SYMBOL_VALUE)\n",
    "    print(f\"You won ${winnings}.\")\n",
    "    print(f\"You won on lines \",*winning_lines)\n",
    "    return winnings-bet"
   ]
  },
  {
   "cell_type": "code",
   "execution_count": 58,
   "id": "34448b6f",
   "metadata": {},
   "outputs": [],
   "source": [
    "# Function to get the no of lines that user like to bet\n",
    "def get_no_lines():\n",
    "    \n",
    "     while True:\n",
    "        lines=input(\"Enter the number of lines to bet on (1-\"+str(MAX_LINES)+')?')\n",
    "        if lines.isdigit():\n",
    "            lines=int(lines)\n",
    "            if lines>0 and lines <=MAX_LINES:\n",
    "                break\n",
    "            else:\n",
    "                print(\"Lines must be between 1 and 3\")\n",
    "        else:\n",
    "            print(\"Please enter a valid number of lines\")\n",
    "     return lines\n",
    "    "
   ]
  },
  {
   "cell_type": "code",
   "execution_count": 68,
   "id": "86b787cf",
   "metadata": {},
   "outputs": [],
   "source": [
    "# Function to get the random slot spin \n",
    "def get_slot_spin(rows,cols,symbols):\n",
    "    all_symbols=[]\n",
    "    for symbols,SYMBOL_COUNT in symbols.items():\n",
    "        for _ in range(SYMBOL_COUNT):\n",
    "            all_symbols.append(symbols)\n",
    "    columns=[]\n",
    "    \n",
    "    for _ in range(cols):\n",
    "        column=[]\n",
    "        current_symbols=all_symbols[:]\n",
    "        for _ in range(rows):\n",
    "            value=random.choice(current_symbols)\n",
    "            current_symbols.remove(value)\n",
    "            column.append(value)\n",
    "        columns.append(column)\n",
    "    return columns"
   ]
  },
  {
   "cell_type": "code",
   "execution_count": 60,
   "id": "fa808a11",
   "metadata": {},
   "outputs": [],
   "source": [
    "# Function to print the slot spin output\n",
    "def print_slot_machine(columns):\n",
    "    for row in range(len(columns[0])):\n",
    "        for i,column in enumerate(columns):\n",
    "            if i != len(columns)-1:\n",
    "                print(column[row],end=\" | \")\n",
    "            else:\n",
    "                print(column[row])"
   ]
  },
  {
   "cell_type": "code",
   "execution_count": 61,
   "id": "e717a020",
   "metadata": {},
   "outputs": [],
   "source": [
    "# Function to get the bet amount from the user\n",
    "def get_bet():\n",
    "     while True:\n",
    "        bet=input(\"What would you like to bet? (\"+str(MIN_BET)+'-'+str(MAX_BET)+')?')\n",
    "        if bet.isdigit():\n",
    "            bet=int(bet)\n",
    "            if bet>=MIN_BET and bet <=MAX_BET:\n",
    "                break\n",
    "            else:\n",
    "                print(\"Bet amount must be between \"+str(MIN_BET)+'-'+str(MAX_BET)+')')\n",
    "        else:\n",
    "            print(\"Please enter a valid bet amount\")\n",
    "     return bet\n",
    "    "
   ]
  },
  {
   "cell_type": "code",
   "execution_count": 66,
   "id": "c4df1ab2",
   "metadata": {},
   "outputs": [],
   "source": [
    "# Function to check the winning amount for each bet\n",
    "def check_winnings(cols,lines,bet,values):\n",
    "    winning=0\n",
    "    w_lines=[]\n",
    "    for line in range(lines):\n",
    "        symbol=cols[0][line]\n",
    "        for col in cols:\n",
    "            symb=col[line]\n",
    "            if symbol!=symb:\n",
    "                break\n",
    "        else:\n",
    "            winning+=values[symbol]*bet\n",
    "            w_lines.append(line+1)\n",
    "    return winning,w_lines\n",
    "        \n",
    "    "
   ]
  },
  {
   "cell_type": "code",
   "execution_count": null,
   "id": "1dc4b571",
   "metadata": {},
   "outputs": [
    {
     "name": "stdout",
     "output_type": "stream",
     "text": [
      "Enter the amount you like to deposit : $100\n",
      "Current balance id $100\n",
      "press enter to spin(q to Quit).5\n",
      "Enter the number of lines to bet on (1-3)?3\n",
      "Whar would you like to bet? (1-100)?5\n",
      "You are betting $5 on 3lines.Total bet is equal to $15\n",
      "D | D | C\n",
      "B | B | B\n",
      "A | C | B\n",
      "You won $20.\n",
      "You won on lines  2\n",
      "You left with $115\n",
      "Current balance id $115\n",
      "press enter to spin(q to Quit).\n",
      "Enter the number of lines to bet on (1-3)?3\n",
      "Whar would you like to bet? (1-100)?5\n",
      "You are betting $5 on 3lines.Total bet is equal to $15\n",
      "C | B | D\n",
      "D | C | D\n",
      "A | C | B\n",
      "You won $0.\n",
      "You won on lines \n",
      "You left with $110\n",
      "Current balance id $110\n",
      "press enter to spin(q to Quit).\n",
      "Enter the number of lines to bet on (1-3)?3\n",
      "Whar would you like to bet? (1-100)?5\n",
      "You are betting $5 on 3lines.Total bet is equal to $15\n",
      "B | D | D\n",
      "B | C | A\n",
      "A | C | C\n",
      "You won $0.\n",
      "You won on lines \n",
      "You left with $105\n",
      "Current balance id $105\n"
     ]
    }
   ],
   "source": [
    "main()\n"
   ]
  },
  {
   "cell_type": "code",
   "execution_count": null,
   "id": "cf367db7",
   "metadata": {},
   "outputs": [],
   "source": []
  }
 ],
 "metadata": {
  "kernelspec": {
   "display_name": "Python 3 (ipykernel)",
   "language": "python",
   "name": "python3"
  },
  "language_info": {
   "codemirror_mode": {
    "name": "ipython",
    "version": 3
   },
   "file_extension": ".py",
   "mimetype": "text/x-python",
   "name": "python",
   "nbconvert_exporter": "python",
   "pygments_lexer": "ipython3",
   "version": "3.11.3"
  }
 },
 "nbformat": 4,
 "nbformat_minor": 5
}
